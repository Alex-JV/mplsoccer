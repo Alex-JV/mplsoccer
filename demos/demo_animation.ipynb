{
 "cells": [
  {
   "cell_type": "code",
   "execution_count": 1,
   "metadata": {},
   "outputs": [],
   "source": [
    "from pitch import Pitch\n",
    "import pandas as pd\n",
    "import numpy as np\n",
    "from matplotlib import pyplot as plt\n",
    "from matplotlib import animation"
   ]
  },
  {
   "cell_type": "code",
   "execution_count": 2,
   "metadata": {},
   "outputs": [],
   "source": [
    "# get dataframes for player and the ball\n",
    "df_ball = pd.DataFrame({'frame':[1,2],'position_x':[50,100],'position_y':[-2000,-1950]})\n",
    "df_player = pd.DataFrame({'frame':[1,1,1,1,2,2,2,2],'team_id':[1,1,2,2,1,1,2,2],\n",
    "                          'position_x':[-1000,-1500,2000,2500,-950,-1450,2050,2550],\n",
    "                          'position_y':[-1000,0,-2000,2000,-950,50,-1950,2050]})"
   ]
  },
  {
   "cell_type": "code",
   "execution_count": 3,
   "metadata": {},
   "outputs": [],
   "source": [
    "# split player dataframe so teams are seperated - this makes it easier to color the markers\n",
    "df_player1 = df_player.loc[df_player.team_id==1,['frame','position_x','position_y']].copy()\n",
    "df_player2 = df_player.loc[df_player.team_id==2,['frame','position_x','position_y']].copy()"
   ]
  },
  {
   "cell_type": "code",
   "execution_count": 4,
   "metadata": {},
   "outputs": [
    {
     "data": {
      "text/html": [
       "<div>\n",
       "<style scoped>\n",
       "    .dataframe tbody tr th:only-of-type {\n",
       "        vertical-align: middle;\n",
       "    }\n",
       "\n",
       "    .dataframe tbody tr th {\n",
       "        vertical-align: top;\n",
       "    }\n",
       "\n",
       "    .dataframe thead th {\n",
       "        text-align: right;\n",
       "    }\n",
       "</style>\n",
       "<table border=\"1\" class=\"dataframe\">\n",
       "  <thead>\n",
       "    <tr style=\"text-align: right;\">\n",
       "      <th></th>\n",
       "      <th>frame</th>\n",
       "      <th>position_x</th>\n",
       "      <th>position_y</th>\n",
       "    </tr>\n",
       "  </thead>\n",
       "  <tbody>\n",
       "    <tr>\n",
       "      <th>0</th>\n",
       "      <td>1</td>\n",
       "      <td>50</td>\n",
       "      <td>-2000</td>\n",
       "    </tr>\n",
       "    <tr>\n",
       "      <th>1</th>\n",
       "      <td>2</td>\n",
       "      <td>100</td>\n",
       "      <td>-1950</td>\n",
       "    </tr>\n",
       "  </tbody>\n",
       "</table>\n",
       "</div>"
      ],
      "text/plain": [
       "   frame  position_x  position_y\n",
       "0      1          50       -2000\n",
       "1      2         100       -1950"
      ]
     },
     "execution_count": 4,
     "metadata": {},
     "output_type": "execute_result"
    }
   ],
   "source": [
    "df_ball"
   ]
  },
  {
   "cell_type": "code",
   "execution_count": 5,
   "metadata": {},
   "outputs": [
    {
     "data": {
      "text/html": [
       "<div>\n",
       "<style scoped>\n",
       "    .dataframe tbody tr th:only-of-type {\n",
       "        vertical-align: middle;\n",
       "    }\n",
       "\n",
       "    .dataframe tbody tr th {\n",
       "        vertical-align: top;\n",
       "    }\n",
       "\n",
       "    .dataframe thead th {\n",
       "        text-align: right;\n",
       "    }\n",
       "</style>\n",
       "<table border=\"1\" class=\"dataframe\">\n",
       "  <thead>\n",
       "    <tr style=\"text-align: right;\">\n",
       "      <th></th>\n",
       "      <th>frame</th>\n",
       "      <th>position_x</th>\n",
       "      <th>position_y</th>\n",
       "    </tr>\n",
       "  </thead>\n",
       "  <tbody>\n",
       "    <tr>\n",
       "      <th>0</th>\n",
       "      <td>1</td>\n",
       "      <td>-1000</td>\n",
       "      <td>-1000</td>\n",
       "    </tr>\n",
       "    <tr>\n",
       "      <th>1</th>\n",
       "      <td>1</td>\n",
       "      <td>-1500</td>\n",
       "      <td>0</td>\n",
       "    </tr>\n",
       "    <tr>\n",
       "      <th>4</th>\n",
       "      <td>2</td>\n",
       "      <td>-950</td>\n",
       "      <td>-950</td>\n",
       "    </tr>\n",
       "    <tr>\n",
       "      <th>5</th>\n",
       "      <td>2</td>\n",
       "      <td>-1450</td>\n",
       "      <td>50</td>\n",
       "    </tr>\n",
       "  </tbody>\n",
       "</table>\n",
       "</div>"
      ],
      "text/plain": [
       "   frame  position_x  position_y\n",
       "0      1       -1000       -1000\n",
       "1      1       -1500           0\n",
       "4      2        -950        -950\n",
       "5      2       -1450          50"
      ]
     },
     "execution_count": 5,
     "metadata": {},
     "output_type": "execute_result"
    }
   ],
   "source": [
    "df_player1"
   ]
  },
  {
   "cell_type": "code",
   "execution_count": 6,
   "metadata": {},
   "outputs": [
    {
     "data": {
      "text/html": [
       "<div>\n",
       "<style scoped>\n",
       "    .dataframe tbody tr th:only-of-type {\n",
       "        vertical-align: middle;\n",
       "    }\n",
       "\n",
       "    .dataframe tbody tr th {\n",
       "        vertical-align: top;\n",
       "    }\n",
       "\n",
       "    .dataframe thead th {\n",
       "        text-align: right;\n",
       "    }\n",
       "</style>\n",
       "<table border=\"1\" class=\"dataframe\">\n",
       "  <thead>\n",
       "    <tr style=\"text-align: right;\">\n",
       "      <th></th>\n",
       "      <th>frame</th>\n",
       "      <th>position_x</th>\n",
       "      <th>position_y</th>\n",
       "    </tr>\n",
       "  </thead>\n",
       "  <tbody>\n",
       "    <tr>\n",
       "      <th>2</th>\n",
       "      <td>1</td>\n",
       "      <td>2000</td>\n",
       "      <td>-2000</td>\n",
       "    </tr>\n",
       "    <tr>\n",
       "      <th>3</th>\n",
       "      <td>1</td>\n",
       "      <td>2500</td>\n",
       "      <td>2000</td>\n",
       "    </tr>\n",
       "    <tr>\n",
       "      <th>6</th>\n",
       "      <td>2</td>\n",
       "      <td>2050</td>\n",
       "      <td>-1950</td>\n",
       "    </tr>\n",
       "    <tr>\n",
       "      <th>7</th>\n",
       "      <td>2</td>\n",
       "      <td>2550</td>\n",
       "      <td>2050</td>\n",
       "    </tr>\n",
       "  </tbody>\n",
       "</table>\n",
       "</div>"
      ],
      "text/plain": [
       "   frame  position_x  position_y\n",
       "2      1        2000       -2000\n",
       "3      1        2500        2000\n",
       "6      2        2050       -1950\n",
       "7      2        2550        2050"
      ]
     },
     "execution_count": 6,
     "metadata": {},
     "output_type": "execute_result"
    }
   ],
   "source": [
    "df_player2"
   ]
  },
  {
   "cell_type": "code",
   "execution_count": 7,
   "metadata": {},
   "outputs": [
    {
     "data": {
      "image/png": "[encoded data removed]",
      "text/plain": [
       "<Figure size 864x576 with 1 Axes>"
      ]
     },
     "metadata": {
      "needs_background": "light"
     },
     "output_type": "display_data"
    }
   ],
   "source": [
    "# First set up the figure, the axis, and the plot elements we want to animate\n",
    "pitch = Pitch(pitch_type='tracab',orientation='horizontal',view='full',layout=(1,1),figsize=(12,8),\n",
    "              pitch_width=68,pitch_length=105,stripe=True,goal_type='line',axis=False,label=True)\n",
    "fig, ax = pitch.draw()\n",
    "ball, = ax.plot([], [], 'ko', ms=6,markerfacecolor='w',zorder=3)\n",
    "player_1, = ax.plot([], [], 'ko', ms=10,markerfacecolor='#b94b75') #red/maroon\n",
    "player_2, = ax.plot([], [], 'ko', ms=10,markerfacecolor='#7f63b8') #purple\n",
    "# initialization function: plot the background of each frame\n",
    "def init():\n",
    "    ball.set_data([], [])\n",
    "    player_1.set_data([], [])\n",
    "    player_2.set_data([], [])\n",
    "    return ball,player_1,player_2\n",
    "# animation function of dataframes' list\n",
    "def animate(i):\n",
    "    # set the ball data with the x and y positions for the ith frame\n",
    "    ball.set_data(df_ball.iloc[i,1], df_ball.iloc[i,2])\n",
    "    # get the frame id for the ith frame\n",
    "    frame = df_ball.iloc[i,0]\n",
    "    # set the player data using the frame id\n",
    "    player_1.set_data(df_player1.loc[df_player1.frame==frame,'position_x'],\n",
    "                      df_player1.loc[df_player1.frame==frame,'position_y'])\n",
    "    player_2.set_data(df_player2.loc[df_player2.frame==frame,'position_x'],\n",
    "                      df_player2.loc[df_player2.frame==frame,'position_y']) \n",
    "    return ball, player_1, player_2\n",
    "# call the animator, animate every 300 ms\n",
    "# note that its hard to get the ffmpeg requirements right. I installed from conda-forge: see the conda.yml file\n",
    "anim = animation.FuncAnimation(fig, animate, frames=len(df_ball), init_func=init, interval=50, blit=True)\n",
    "anim.save('demo.mp4',dpi=300, fps=25,extra_args=['-vcodec', 'libx264'])"
   ]
  }
 ],
 "metadata": {
  "kernelspec": {
   "display_name": "Python 3",
   "language": "python",
   "name": "python3"
  },
  "language_info": {
   "codemirror_mode": {
    "name": "ipython",
    "version": 3
   },
   "file_extension": ".py",
   "mimetype": "text/x-python",
   "name": "python",
   "nbconvert_exporter": "python",
   "pygments_lexer": "ipython3",
   "version": "3.7.5"
  }
 },
 "nbformat": 4,
 "nbformat_minor": 2
}

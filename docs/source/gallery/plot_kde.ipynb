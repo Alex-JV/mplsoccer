{
  "cells": [
    {
      "cell_type": "code",
      "execution_count": null,
      "metadata": {
        "collapsed": false
      },
      "outputs": [],
      "source": [
        "%matplotlib inline"
      ]
    },
    {
      "cell_type": "markdown",
      "metadata": {},
      "source": [
        "\n# Event distribution using kdeplot \n\n\nThis example shows how to plot the location of events occurring in a match \nusing kernel density estimation (KDE).\n"
      ]
    },
    {
      "cell_type": "code",
      "execution_count": null,
      "metadata": {
        "collapsed": false
      },
      "outputs": [],
      "source": [
        "from mplsoccer.pitch import Pitch\nfrom mplsoccer.statsbomb import read_event, EVENT_SLUG\nimport os"
      ]
    },
    {
      "cell_type": "markdown",
      "metadata": {},
      "source": [
        "load first game that Messi played as a false-9 and the match before as dataframes\n\n"
      ]
    },
    {
      "cell_type": "code",
      "execution_count": null,
      "metadata": {
        "collapsed": false
      },
      "outputs": [],
      "source": [
        "kwargs = {'related_event_df': False, 'shot_freeze_frame_df': False, 'tactics_lineup_df': False}\ndf_false9 = read_event(os.path.join(EVENT_SLUG,'69249.json'), **kwargs)['event']\ndf_before_false9 = read_event(os.path.join(EVENT_SLUG,'69251.json'), **kwargs)['event']"
      ]
    },
    {
      "cell_type": "markdown",
      "metadata": {},
      "source": [
        "Filter the dataframes to only include Messi's events and the starting positions\n\n"
      ]
    },
    {
      "cell_type": "code",
      "execution_count": null,
      "metadata": {
        "collapsed": false
      },
      "outputs": [],
      "source": [
        "df_false9 = df_false9.loc[df_false9.player_id == 5503,['x', 'y']]\ndf_before_false9 = df_before_false9.loc[df_before_false9.player_id == 5503,['x', 'y']]"
      ]
    },
    {
      "cell_type": "markdown",
      "metadata": {},
      "source": [
        "View a dataframe\n\n"
      ]
    },
    {
      "cell_type": "code",
      "execution_count": null,
      "metadata": {
        "collapsed": false
      },
      "outputs": [],
      "source": [
        "df_false9.head()"
      ]
    },
    {
      "cell_type": "markdown",
      "metadata": {},
      "source": [
        "Plotting Messi's first game as a False-9\n\n"
      ]
    },
    {
      "cell_type": "code",
      "execution_count": null,
      "metadata": {
        "collapsed": false
      },
      "outputs": [],
      "source": [
        "pitch = Pitch(pitch_type = 'statsbomb', figsize = (16, 11), \n              pitch_color = 'grass', stripe = True, constrained_layout=False)\nfig, ax = pitch.draw()\n\n# plotting\nax.set_title('The first Game Messi played in the false 9 role', fontsize = 30, pad = 20)\n\n# plot the kernel density estimation\npitch.kdeplot(df_false9.x, df_false9.y, ax = ax, cmap = 'plasma', linewidths = 3)\n\n# annotate\npitch.annotate('6-2 thrashing \\nof Real Madrid', (25,10), color = 'white',\n               fontsize = 25, ha = 'center', va = 'center', ax = ax)\npitch.annotate('more events', (70,30), (20,30), ax=ax, color='white', ha = 'center', va = 'center',\n               fontsize = 20, arrowprops=dict(facecolor='white', edgecolor = 'None'))\npitch.annotate('fewer events', (51,20), (20,20), ax=ax, color='white', ha = 'center', va = 'center',\n               fontsize = 20, arrowprops=dict(facecolor='white', edgecolor = 'None'))\n\nfig.tight_layout()"
      ]
    },
    {
      "cell_type": "markdown",
      "metadata": {},
      "source": [
        "Plotting both Messi's first game as a False-9 and the game directly before\n\n"
      ]
    },
    {
      "cell_type": "code",
      "execution_count": null,
      "metadata": {
        "collapsed": false
      },
      "outputs": [],
      "source": [
        "# Setup the pitches\npitch = Pitch(pitch_type = 'statsbomb', figsize = (16, 7), layout = (1, 2), \n              pitch_color = 'grass', stripe = True, constrained_layout=False)\nfig, ax = pitch.draw()\n\n# set the titles\nax[0].set_title('Messi in the game directly before \\n playing in the false 9 role', fontsize = 25, pad = 20)\nax[1].set_title('The first Game Messi \\nplayed in the false 9 role', fontsize = 25, pad = 20)\n\n# plot the kernel density estimation\npitch.kdeplot(df_before_false9.x, df_before_false9.y, ax = ax[0], cmap = 'plasma', linewidths = 3)\npitch.kdeplot(df_false9.x, df_false9.y, ax = ax[1], cmap = 'plasma', linewidths = 3)\n\n# annotations\npitch.annotate('6-2 thrashing \\nof Real Madrid', (25,10), color = 'white',\n               fontsize = 25, ha = 'center', va = 'center', ax = ax[1])\npitch.annotate('2-2 draw \\nagainst Valencia', (25,10), color = 'white',\n               fontsize = 25, ha = 'center', va = 'center', ax = ax[0])\npitch.annotate('more events', (90,68), (30,68), ax=ax[0], color='white', ha = 'center', va = 'center',\n               fontsize = 20, arrowprops=dict(facecolor='white', edgecolor = 'None'))\npitch.annotate('fewer events', (80,17), (80,5), ax=ax[0], color='white', ha = 'center', va = 'center',\n               fontsize = 20, arrowprops=dict(facecolor='white', edgecolor = 'None'))\n\nfig.tight_layout()"
      ]
    }
  ],
  "metadata": {
    "kernelspec": {
      "display_name": "Python 3",
      "language": "python",
      "name": "python3"
    },
    "language_info": {
      "codemirror_mode": {
        "name": "ipython",
        "version": 3
      },
      "file_extension": ".py",
      "mimetype": "text/x-python",
      "name": "python",
      "nbconvert_exporter": "python",
      "pygments_lexer": "ipython3",
      "version": "3.8.1"
    }
  },
  "nbformat": 4,
  "nbformat_minor": 0
}
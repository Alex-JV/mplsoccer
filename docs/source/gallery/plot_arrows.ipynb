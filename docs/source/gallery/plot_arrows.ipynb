{
  "cells": [
    {
      "cell_type": "code",
      "execution_count": null,
      "metadata": {
        "collapsed": false
      },
      "outputs": [],
      "source": [
        "%matplotlib inline"
      ]
    },
    {
      "cell_type": "markdown",
      "metadata": {},
      "source": [
        "\n# Pass plot using quiver\n\n\nThis example shows how to plot all passes in a match as arrows.\n"
      ]
    },
    {
      "cell_type": "code",
      "execution_count": null,
      "metadata": {
        "collapsed": false
      },
      "outputs": [],
      "source": [
        "from mplsoccer.pitch import Pitch\nfrom mplsoccer.statsbomb import read_event, EVENT_SLUG\nfrom matplotlib import rcParams\nimport os\n\nrcParams['text.color'] = '#c7d5cc' # set the default text color\n\n# get event dataframe for game 7478, create a dataframe of the passes, and a boolean mask for the outcome\ndf = read_event(os.path.join(EVENT_SLUG,'7478.json'), related_event_df = False, shot_freeze_frame_df = False, tactics_lineup_df = False)['event']"
      ]
    },
    {
      "cell_type": "markdown",
      "metadata": {},
      "source": [
        "Boolean mask for filtering the dataset by team\n\n"
      ]
    },
    {
      "cell_type": "code",
      "execution_count": null,
      "metadata": {
        "collapsed": false
      },
      "outputs": [],
      "source": [
        "team1, team2 = df.team_name.unique()\nmask_team1 = (df.type_name == 'Pass') & (df.team_name == team1)"
      ]
    },
    {
      "cell_type": "markdown",
      "metadata": {},
      "source": [
        "Filter dataset to only include one teams passes and get boolean mask for the completed passes\n\n"
      ]
    },
    {
      "cell_type": "code",
      "execution_count": null,
      "metadata": {
        "collapsed": false
      },
      "outputs": [],
      "source": [
        "df_pass = df.loc[mask_team1, ['x','y','pass_end_x','pass_end_y','outcome_name']]\nmask_complete = df_pass.outcome_name.isnull()"
      ]
    },
    {
      "cell_type": "markdown",
      "metadata": {},
      "source": [
        "View the pass dataframe.\n\n"
      ]
    },
    {
      "cell_type": "code",
      "execution_count": null,
      "metadata": {
        "collapsed": false
      },
      "outputs": [],
      "source": [
        "df_pass.head()"
      ]
    },
    {
      "cell_type": "markdown",
      "metadata": {},
      "source": [
        "Plotting\n\n"
      ]
    },
    {
      "cell_type": "code",
      "execution_count": null,
      "metadata": {
        "collapsed": false
      },
      "outputs": [],
      "source": [
        "# Setup the pitch\npitch = Pitch(pitch_type = 'statsbomb', orientation = 'horizontal',\n              pitch_color = '#22312b', line_color = '#c7d5cc', figsize = (16, 9))\nfig, ax = pitch.draw()\n\n# Plot the completed passes\npitch.quiver(df_pass[mask_complete].x, df_pass[mask_complete].y,\n             df_pass[mask_complete].pass_end_x, df_pass[mask_complete].pass_end_y, width = 1,\n             headwidth = 10, headlength = 10, color = '#ad993c', ax = ax, label = 'completed passes')\n\n# Plot the other passes\npitch.quiver(df_pass[~mask_complete].x, df_pass[~mask_complete].y,\n             df_pass[~mask_complete].pass_end_x, df_pass[~mask_complete].pass_end_y, width = 1, \n             headwidth = 10, headlength = 10, color = '#ba4f45', ax = ax, label = 'other passes')\n\n# setup the legend\nax.legend(facecolor = '#22312b', edgecolor = 'None', fontsize = 'large')\n\n# Set the title\nax.set_title(f'{team1} passes vs {team2}', fontsize = 30);\n\n# Set the figure facecolor\nfig.set_facecolor('#22312b')\n\n# Turn off constrained layout\nfig.set_constrained_layout(False)"
      ]
    }
  ],
  "metadata": {
    "kernelspec": {
      "display_name": "Python 3",
      "language": "python",
      "name": "python3"
    },
    "language_info": {
      "codemirror_mode": {
        "name": "ipython",
        "version": 3
      },
      "file_extension": ".py",
      "mimetype": "text/x-python",
      "name": "python",
      "nbconvert_exporter": "python",
      "pygments_lexer": "ipython3",
      "version": "3.8.1"
    }
  },
  "nbformat": 4,
  "nbformat_minor": 0
}
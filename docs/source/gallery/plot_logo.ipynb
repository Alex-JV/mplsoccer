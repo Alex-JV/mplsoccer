{
  "cells": [
    {
      "cell_type": "code",
      "execution_count": null,
      "metadata": {
        "collapsed": false
      },
      "outputs": [],
      "source": [
        "%matplotlib inline"
      ]
    },
    {
      "cell_type": "markdown",
      "metadata": {},
      "source": [
        "\n# Plot a logo for mplsoccer\n\n"
      ]
    },
    {
      "cell_type": "code",
      "execution_count": null,
      "metadata": {
        "collapsed": false
      },
      "outputs": [],
      "source": [
        "from mplsoccer.pitch import Pitch\nimport matplotlib.patheffects as path_effects\n\npitch = Pitch(pitch_color='grass',figsize=(16,9),pad_bottom=-15,\n              stripe=True, view='half',orientation='vertical',goal_type='box',linewidth=5, line_color='white')\nfig, ax = pitch.draw()\npitch.lines(100,56,120,40,lw=50,comet=True,cmap='jet',transparent=True,ax=ax)\npitch.scatter(97,56,s=40000,marker='football',edgecolors='black',c='white',lw=3,ax=ax)\ntext = pitch.annotate('mpl',xy=(95,27),fontsize=250,c='#eac672',ha='center',va='center',ax=ax)\ntext.set_path_effects([path_effects.Stroke(linewidth=10, foreground='black'),\n                       path_effects.Normal()])"
      ]
    }
  ],
  "metadata": {
    "kernelspec": {
      "display_name": "Python 3",
      "language": "python",
      "name": "python3"
    },
    "language_info": {
      "codemirror_mode": {
        "name": "ipython",
        "version": 3
      },
      "file_extension": ".py",
      "mimetype": "text/x-python",
      "name": "python",
      "nbconvert_exporter": "python",
      "pygments_lexer": "ipython3",
      "version": "3.8.2"
    }
  },
  "nbformat": 4,
  "nbformat_minor": 0
}
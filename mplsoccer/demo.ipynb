{
 "cells": [
  {
   "cell_type": "code",
   "execution_count": 1,
   "metadata": {},
   "outputs": [],
   "source": [
    "from pitch import Pitch\n",
    "import numpy as np\n",
    "import matplotlib.pyplot as plt\n",
    "import matplotlib.gridspec as gridspec"
   ]
  },
  {
   "cell_type": "markdown",
   "metadata": {},
   "source": [
    "# Plot fading line collection"
   ]
  },
  {
   "cell_type": "code",
   "execution_count": null,
   "metadata": {},
   "outputs": [],
   "source": [
    "x = np.linspace(50,70,20)\n",
    "y = np.linspace(0,20,20)\n",
    "points = np.array([x,y]).T.reshape(-1,1,2)\n",
    "segments = np.concatenate([points[:-1],points[1:]], axis=1)"
   ]
  },
  {
   "cell_type": "code",
   "execution_count": null,
   "metadata": {},
   "outputs": [],
   "source": [
    "segments"
   ]
  },
  {
   "cell_type": "code",
   "execution_count": null,
   "metadata": {},
   "outputs": [],
   "source": [
    "x1 = np.array([50,60,70,80])\n",
    "x2 = np.array([70,80,90,100])\n",
    "y1 = np.array([0,20,40,60])\n",
    "y2 = np.array([20,40,60,80])\n",
    "x = np.linspace(x1,x2,20)\n",
    "y = np.linspace(y1,y2,20)\n",
    "points = np.expand_dims(np.transpose(np.array([x,y]),[1,0,2]),1)\n",
    "segments = np.concatenate([points[:-1],points[1:]], axis=1)\n",
    "segments = np.swapaxes(segments.T,1,3).reshape(-1,2,2)"
   ]
  },
  {
   "cell_type": "code",
   "execution_count": null,
   "metadata": {},
   "outputs": [],
   "source": [
    "segments"
   ]
  },
  {
   "cell_type": "code",
   "execution_count": null,
   "metadata": {},
   "outputs": [],
   "source": [
    "np.swapaxes(np.swapaxes(segments,3,1).reshape(-1,2,2),1,2)"
   ]
  },
  {
   "cell_type": "code",
   "execution_count": null,
   "metadata": {},
   "outputs": [],
   "source": [
    "segments.reshape(19*4,2,2)"
   ]
  },
  {
   "cell_type": "code",
   "execution_count": null,
   "metadata": {},
   "outputs": [],
   "source": [
    "segments.reshape(-1,2,2)"
   ]
  },
  {
   "cell_type": "code",
   "execution_count": 2,
   "metadata": {},
   "outputs": [
    {
     "data": {
      "image/png": "[encoded data removed]",
      "text/plain": [
       "<Figure size 720x720 with 1 Axes>"
      ]
     },
     "metadata": {},
     "output_type": "display_data"
    }
   ],
   "source": [
    "pitch = Pitch(pitch_type='opta',orientation='vertical',view='full',figsize=(10,10),\n",
    "              pitch_color='#2f3653',line_color='#82868f',goal_type='box',)\n",
    "fig, ax = pitch.draw()\n",
    "#x = np.linspace(50,70,20)\n",
    "#y = np.linspace(80,90,20)\n",
    "pitch.plot_line_fade(ax=ax)"
   ]
  },
  {
   "cell_type": "markdown",
   "metadata": {},
   "source": [
    "# Statsbomb type xg plot"
   ]
  },
  {
   "cell_type": "code",
   "execution_count": null,
   "metadata": {},
   "outputs": [],
   "source": [
    "# generate data\n",
    "x = np.random.gamma(90, 1.1, 50)\n",
    "x[x>120] = 110\n",
    "y = np.random.normal(loc=40, scale=12, size=50)"
   ]
  },
  {
   "cell_type": "code",
   "execution_count": null,
   "metadata": {},
   "outputs": [],
   "source": [
    "figsize = 820/72\n",
    "pad = 1/72\n",
    "markers = ['s','h','d','^','o']\n",
    "marker_type = np.random.choice(markers,size=50)\n",
    "colors = ['#152982','#2f59a1','#fce865','#d3d3d3','#bc010a']\n",
    "color_type = np.random.choice(colors,50)\n",
    "goal_type = np.random.choice([True,False],50)\n",
    "pitch = Pitch(pitch_type='statsbomb',orientation='vertical',view='half',layout=(1,1),pitch_color='white',\n",
    "              line_color='#535353',figsize=(figsize,figsize),goal_type='line',axis=True,tight_layout=True,\n",
    "              xpad=(-12.51,-13.25),ypad=(-12.82,7.06))\n",
    "fig, ax = pitch.draw()\n",
    "for i in range(5):\n",
    "    marker = markers[i]\n",
    "    x_marker = x[marker_type==marker]\n",
    "    y_marker = y[marker_type==marker]\n",
    "    color_marker = color_type[marker_type==marker]\n",
    "    goal_marker = goal_type[marker_type==marker]\n",
    "    x_marker_goal = x_marker[goal_marker]\n",
    "    y_marker_goal = y_marker[goal_marker]\n",
    "    if marker == 'd':\n",
    "        markersize = 25\n",
    "    else:\n",
    "        markersize = 30\n",
    "    pitch.scatter(x_marker_goal, y_marker_goal,marker=marker, markersize=markersize+6,\n",
    "                  markerfacecolor=\"None\",markeredgecolor='black',linestyle='None',linewidth=1,ax=ax)\n",
    "    for color in colors:\n",
    "        x_marker_color = x_marker[color_marker==color]\n",
    "        y_marker_color = y_marker[color_marker==color]\n",
    "        pitch.scatter(x_marker_color,y_marker_color, marker=marker, c=color,markersize=markersize,\n",
    "                      markeredgecolor='black',alpha=0.8,linestyle='None',ax=ax)\n",
    "            \n",
    "#fig.savefig('statsbomb.png',pad_inches=pad,bbox_inches='tight')"
   ]
  },
  {
   "cell_type": "markdown",
   "metadata": {},
   "source": [
    "# Opta xA style plot"
   ]
  },
  {
   "cell_type": "code",
   "execution_count": null,
   "metadata": {},
   "outputs": [],
   "source": [
    "# generate data\n",
    "x = np.random.gamma(75, 1.1, 50)\n",
    "x[x>100] = 90\n",
    "y = np.random.normal(loc=50, scale=30, size=50)\n",
    "x1 = np.random.normal(loc=60, scale=12, size=1000)\n",
    "spare = np.random.uniform(50,100,size=1000)\n",
    "x1[x1>100] = spare[x1>100]\n",
    "x1[x1<0] = spare[x1<0]\n",
    "y1 = np.random.normal(loc=50, scale=30, size=1000)\n",
    "y1[y1>100] = spare[y1>100]\n",
    "y1[y1<0] = spare[y1<0]"
   ]
  },
  {
   "cell_type": "code",
   "execution_count": null,
   "metadata": {},
   "outputs": [],
   "source": [
    "pad = 1/72\n",
    "figsize1 = 1536/72\n",
    "figsize2 = 1125/72\n",
    "fig = plt.figure(figsize=(figsize1, figsize2),facecolor='#2f3653') \n",
    "gs = gridspec.GridSpec(2, 2, width_ratios=[3.13, 1])\n",
    "ax1 = plt.subplot(gs[:, 0])\n",
    "ax2 = plt.subplot(gs[0, 1])\n",
    "ax3 = plt.subplot(gs[1, 1])\n",
    "pitch = Pitch(pitch_type='opta',orientation='vertical',view='half',layout=(1,1),figsize=(10,10),\n",
    "              pitch_color='#2f3653',line_color='#82868f',goal_type='box',linewidth=2,xpad=(4,4),ypad=(0.2,4))\n",
    "pitch.draw(ax1)\n",
    "pitch.draw(ax2)\n",
    "pitch.draw(ax3)\n",
    "pitch.scatter(x,y, marker='o', color='None',markersize=10,linestyle='None',markeredgecolor='#34afed',ax=ax1)\n",
    "pitch.scatter(x,y, marker='o', color='None',markersize=10,linestyle='None',markeredgecolor='#34afed',ax=ax2)\n",
    "pitch.scatter(x1,y1, marker='o', color='#a43967',markersize=10,alpha=0.25,linestyle='None',ax=ax1)\n",
    "pitch.scatter(x1,y1, marker='o', color='#a43967',markersize=10,alpha=0.25,linestyle='None',ax=ax3)\n",
    "#fig.savefig('opta.png',facecolor='#2f3653',pad_inches=pad,bbox_inches='tight')"
   ]
  },
  {
   "cell_type": "markdown",
   "metadata": {},
   "source": [
    "# Statsbomb"
   ]
  },
  {
   "cell_type": "code",
   "execution_count": null,
   "metadata": {},
   "outputs": [],
   "source": [
    "# generate data\n",
    "x = np.random.gamma(90, 1.1, 50)\n",
    "x[x>120] = 110\n",
    "y = np.random.normal(loc=40, scale=12, size=50)"
   ]
  },
  {
   "cell_type": "markdown",
   "metadata": {},
   "source": [
    "#### Statsbomb vertical full"
   ]
  },
  {
   "cell_type": "code",
   "execution_count": null,
   "metadata": {},
   "outputs": [],
   "source": [
    "pitch = Pitch(pitch_type='statsbomb',orientation='vertical',view='full',figsize=(10,10),stripe=True,goal_type='line')\n",
    "fig,ax = pitch.draw()\n",
    "pitch.scatter(x,y, marker='h', color='#d3d3d3',markersize=30,markeredgecolor='black',alpha=0.8,linestyle='None',ax=ax)"
   ]
  },
  {
   "cell_type": "markdown",
   "metadata": {},
   "source": [
    "#### Statsbomb horizontal full"
   ]
  },
  {
   "cell_type": "code",
   "execution_count": null,
   "metadata": {
    "scrolled": false
   },
   "outputs": [],
   "source": [
    "pitch = Pitch(pitch_type='statsbomb',orientation='horizontal',view='full',layout=(1,1),figsize=(10,10),stripe=True,axis=True,\n",
    "                     goal_type='line')\n",
    "fig,ax = pitch.draw()\n",
    "pitch.scatter(x,y, marker='h', color='#d3d3d3',markersize=30,markeredgecolor='black',alpha=0.8,linestyle='None',ax=ax)"
   ]
  },
  {
   "cell_type": "markdown",
   "metadata": {},
   "source": [
    "#### Statsbomb Horizontal half"
   ]
  },
  {
   "cell_type": "code",
   "execution_count": null,
   "metadata": {
    "scrolled": false
   },
   "outputs": [],
   "source": [
    "pitch = Pitch(pitch_type='statsbomb',orientation='horizontal',view='half',layout=(1,1),figsize=(10,10),stripe=True,\n",
    "                     goal_type='line')\n",
    "fig,ax = pitch.draw()\n",
    "pitch.scatter(x,y, marker='h', color='#d3d3d3',markersize=30,markeredgecolor='black',alpha=0.8,linestyle='None',ax=ax)"
   ]
  },
  {
   "cell_type": "markdown",
   "metadata": {},
   "source": [
    "#### Statsbomb Vertical half"
   ]
  },
  {
   "cell_type": "code",
   "execution_count": null,
   "metadata": {},
   "outputs": [],
   "source": [
    "pitch = Pitch(pitch_type='statsbomb',orientation='vertical',view='half',layout=(1,1),figsize=(10,10),stripe=True,\n",
    "              goal_type='line')\n",
    "fig,ax = pitch.draw()\n",
    "pitch.scatter(x,y, marker='h', color='#d3d3d3',markersize=30,markeredgecolor='black',alpha=0.8,linestyle='None',ax=ax)"
   ]
  },
  {
   "cell_type": "markdown",
   "metadata": {},
   "source": [
    "# Opta"
   ]
  },
  {
   "cell_type": "code",
   "execution_count": null,
   "metadata": {},
   "outputs": [],
   "source": [
    "# generate data\n",
    "x = np.random.gamma(75, 1.1, 50)\n",
    "x[x>100] = 90\n",
    "y = np.random.normal(loc=50, scale=12, size=50)"
   ]
  },
  {
   "cell_type": "markdown",
   "metadata": {},
   "source": [
    "#### Opta vertical full"
   ]
  },
  {
   "cell_type": "code",
   "execution_count": null,
   "metadata": {},
   "outputs": [],
   "source": [
    "pitch = Pitch(pitch_type='opta',orientation='vertical',view='full',layout=(1,1),figsize=(10,10),stripe=True,\n",
    "                      goal_type='box')\n",
    "fig, ax = pitch.draw()\n",
    "pitch.scatter(x,y, marker='h', color='#d3d3d3',markersize=30,markeredgecolor='black',alpha=0.8,linestyle='None',ax=ax)"
   ]
  },
  {
   "cell_type": "markdown",
   "metadata": {},
   "source": [
    "#### Opta horizontal full"
   ]
  },
  {
   "cell_type": "code",
   "execution_count": null,
   "metadata": {},
   "outputs": [],
   "source": [
    "pitch = Pitch(pitch_type='opta',orientation='horizontal',view='full',layout=(1,1),figsize=(10,10),stripe=True,axis=True,\n",
    "                     goal_type='line')\n",
    "fig, ax = pitch.draw()\n",
    "pitch.scatter(x,y, marker='h', color='#d3d3d3',markersize=30,markeredgecolor='black',alpha=0.8,linestyle='None',ax=ax)"
   ]
  },
  {
   "cell_type": "markdown",
   "metadata": {},
   "source": [
    "#### Opta vertical half"
   ]
  },
  {
   "cell_type": "code",
   "execution_count": null,
   "metadata": {},
   "outputs": [],
   "source": [
    "pitch = Pitch(pitch_type='opta',orientation='vertical',view='half',layout=(1,1),figsize=(10,10),stripe=True,goal_type='line')\n",
    "fig, ax = pitch.draw()\n",
    "pitch.scatter(x,y, marker='h', color='#d3d3d3',markersize=30,markeredgecolor='black',alpha=0.8,linestyle='None',ax=ax)"
   ]
  },
  {
   "cell_type": "markdown",
   "metadata": {},
   "source": [
    "#### Opta Horizontal half"
   ]
  },
  {
   "cell_type": "code",
   "execution_count": null,
   "metadata": {
    "scrolled": false
   },
   "outputs": [],
   "source": [
    "pitch = Pitch(pitch_type='opta',orientation='horizontal',view='half',layout=(1,1),figsize=(10,10),stripe=True,goal_type='line')\n",
    "fig, ax = pitch.draw()\n",
    "pitch.scatter(x,y, marker='h', color='#d3d3d3',markersize=30,markeredgecolor='black',alpha=0.8,linestyle='None',ax=ax)"
   ]
  },
  {
   "cell_type": "markdown",
   "metadata": {},
   "source": [
    "# Tracab"
   ]
  },
  {
   "cell_type": "code",
   "execution_count": null,
   "metadata": {},
   "outputs": [],
   "source": [
    "# generate data\n",
    "x = np.random.normal(loc=3600, scale=700, size=50)\n",
    "x[x>5250] = 4500\n",
    "y = np.random.normal(loc=0, scale=1000, size=50)"
   ]
  },
  {
   "cell_type": "markdown",
   "metadata": {},
   "source": [
    "#### Tracab vertical full"
   ]
  },
  {
   "cell_type": "code",
   "execution_count": null,
   "metadata": {
    "scrolled": false
   },
   "outputs": [],
   "source": [
    "pitch = Pitch(pitch_type='tracab',orientation='vertical',view='full',layout=(1,1),figsize=(10,10),\n",
    "                  pitch_width=68,pitch_length=105,stripe=True,goal_type='line',axis=True,label=True)\n",
    "fig, ax = pitch.draw()\n",
    "pitch.scatter(x,y, marker='h', color='#d3d3d3',markersize=30,markeredgecolor='black',alpha=0.8,linestyle='None',ax=ax)"
   ]
  },
  {
   "cell_type": "markdown",
   "metadata": {},
   "source": [
    "#### Tracab horizontal full"
   ]
  },
  {
   "cell_type": "code",
   "execution_count": null,
   "metadata": {
    "scrolled": false
   },
   "outputs": [],
   "source": [
    "pitch = Pitch(pitch_type='tracab',orientation='horizontal',view='full',layout=(1,1),figsize=(10,10),\n",
    "                  pitch_width=68,pitch_length=105,stripe=True,goal_type='line')\n",
    "fig, ax = pitch.draw()\n",
    "pitch.scatter(x,y, marker='h', color='#d3d3d3',markersize=30,markeredgecolor='black',alpha=0.8,linestyle='None',ax=ax)"
   ]
  },
  {
   "cell_type": "markdown",
   "metadata": {},
   "source": [
    "#### Tracab vertical half"
   ]
  },
  {
   "cell_type": "code",
   "execution_count": null,
   "metadata": {
    "scrolled": false
   },
   "outputs": [],
   "source": [
    "pitch = Pitch(pitch_type='tracab',orientation='vertical',view='half',layout=(1,1),figsize=(10,10),\n",
    "                  pitch_width=68,pitch_length=105,stripe=True,goal_type='line')\n",
    "fig, ax = pitch.draw()\n",
    "pitch.scatter(x,y, marker='h', color='#d3d3d3',markersize=30,markeredgecolor='black',alpha=0.8,linestyle='None',ax=ax)"
   ]
  },
  {
   "cell_type": "markdown",
   "metadata": {},
   "source": [
    "#### Tracab Horizontal half"
   ]
  },
  {
   "cell_type": "code",
   "execution_count": null,
   "metadata": {
    "scrolled": false
   },
   "outputs": [],
   "source": [
    "pitch = Pitch(pitch_type='tracab',orientation='horizontal',view='half',layout=(1,1),figsize=(10,10),\n",
    "                  pitch_width=68,pitch_length=105,stripe=True,goal_type='line')\n",
    "fig, ax = pitch.draw()\n",
    "pitch.scatter(x,y, marker='h', color='#d3d3d3',markersize=30,markeredgecolor='black',alpha=0.8,linestyle='None',ax=ax)"
   ]
  },
  {
   "cell_type": "markdown",
   "metadata": {},
   "source": [
    "# Stats.com"
   ]
  },
  {
   "cell_type": "code",
   "execution_count": null,
   "metadata": {},
   "outputs": [],
   "source": [
    "# generate data\n",
    "x = np.random.gamma(75, 1.1, 50)\n",
    "x[x>100] = 90\n",
    "y = np.random.normal(loc=35, scale=12, size=50)"
   ]
  },
  {
   "cell_type": "markdown",
   "metadata": {},
   "source": [
    "#### stats.com vertical full"
   ]
  },
  {
   "cell_type": "code",
   "execution_count": null,
   "metadata": {},
   "outputs": [],
   "source": [
    "pitch = Pitch(pitch_type='stats',orientation='vertical',view='full',figsize=(10,10),stripe=True,axis=True,label=True,\n",
    "                     goal_type='line')\n",
    "fig, ax = pitch.draw()\n",
    "pitch.scatter(x,y, marker='h', color='#d3d3d3',markersize=30,markeredgecolor='black',alpha=0.8,linestyle='None',ax=ax)"
   ]
  },
  {
   "cell_type": "markdown",
   "metadata": {},
   "source": [
    "#### stats.com horizontal full"
   ]
  },
  {
   "cell_type": "code",
   "execution_count": null,
   "metadata": {
    "scrolled": false
   },
   "outputs": [],
   "source": [
    "pitch = Pitch(pitch_type='stats',orientation='horizontal',view='full',layout=(1,1),figsize=(10,10),stripe=True,axis=True,\n",
    "                     goal_type='line')\n",
    "fig, ax = pitch.draw()\n",
    "pitch.scatter(x,y, marker='h', color='#d3d3d3',markersize=30,markeredgecolor='black',alpha=0.8,linestyle='None',ax=ax)"
   ]
  },
  {
   "cell_type": "markdown",
   "metadata": {},
   "source": [
    "#### stats.com vertical half"
   ]
  },
  {
   "cell_type": "code",
   "execution_count": null,
   "metadata": {
    "scrolled": false
   },
   "outputs": [],
   "source": [
    "pitch = Pitch(pitch_type='stats',orientation='vertical',view='half',layout=(1,1),figsize=(10,10),stripe=True,axis=True,\n",
    "                     goal_type='line')\n",
    "fig, ax = pitch.draw()\n",
    "pitch.scatter(x,y, marker='h', color='#d3d3d3',markersize=30,markeredgecolor='black',alpha=0.8,linestyle='None',ax=ax)"
   ]
  },
  {
   "cell_type": "markdown",
   "metadata": {},
   "source": [
    "#### stats.com Horizontal half"
   ]
  },
  {
   "cell_type": "code",
   "execution_count": null,
   "metadata": {
    "scrolled": false
   },
   "outputs": [],
   "source": [
    "pitch = Pitch(pitch_type='stats',orientation='horizontal',view='half',layout=(1,1),figsize=(10,10),stripe=True,axis=True,\n",
    "                     goal_type='line')\n",
    "fig, ax = pitch.draw()\n",
    "pitch.scatter(x,y, marker='h', color='#d3d3d3',markersize=30,markeredgecolor='black',alpha=0.8,linestyle='None',ax=ax)"
   ]
  },
  {
   "cell_type": "markdown",
   "metadata": {},
   "source": [
    "# Wyscout"
   ]
  },
  {
   "cell_type": "code",
   "execution_count": null,
   "metadata": {},
   "outputs": [],
   "source": [
    "# generate data\n",
    "x = np.random.gamma(75, 1.1, 50)\n",
    "x[x>100] = 90\n",
    "y = np.random.normal(loc=50, scale=12, size=50)"
   ]
  },
  {
   "cell_type": "markdown",
   "metadata": {},
   "source": [
    "#### wyscout vertical full"
   ]
  },
  {
   "cell_type": "code",
   "execution_count": null,
   "metadata": {},
   "outputs": [],
   "source": [
    "pitch = Pitch(pitch_type='wyscout',orientation='vertical',view='full',figsize=(10,10),stripe=True,axis=True,\n",
    "                     goal_type='line')\n",
    "fig, ax = pitch.draw()\n",
    "pitch.scatter(x,y, marker='h', color='#d3d3d3',markersize=30,markeredgecolor='black',alpha=0.8,linestyle='None',ax=ax)"
   ]
  },
  {
   "cell_type": "markdown",
   "metadata": {},
   "source": [
    "#### wyscout horizontal full"
   ]
  },
  {
   "cell_type": "code",
   "execution_count": null,
   "metadata": {
    "scrolled": false
   },
   "outputs": [],
   "source": [
    "pitch = Pitch(pitch_type='wyscout',orientation='horizontal',view='full',layout=(1,1),figsize=(10,10),stripe=True,axis=True,\n",
    "                     goal_type='line')\n",
    "fig, ax = pitch.draw()\n",
    "pitch.scatter(x,y, marker='h', color='#d3d3d3',markersize=30,markeredgecolor='black',alpha=0.8,linestyle='None',ax=ax)"
   ]
  },
  {
   "cell_type": "markdown",
   "metadata": {},
   "source": [
    "#### wyscout vertical half"
   ]
  },
  {
   "cell_type": "code",
   "execution_count": null,
   "metadata": {
    "scrolled": false
   },
   "outputs": [],
   "source": [
    "pitch = Pitch(pitch_type='wyscout',orientation='vertical',view='half',layout=(1,1),figsize=(10,10),stripe=True,axis=True,\n",
    "                     goal_type='line')\n",
    "fig, ax = pitch.draw()\n",
    "pitch.scatter(x,y, marker='h', color='#d3d3d3',markersize=30,markeredgecolor='black',alpha=0.8,linestyle='None',ax=ax)"
   ]
  },
  {
   "cell_type": "markdown",
   "metadata": {},
   "source": [
    "#### wyscout Horizontal half"
   ]
  },
  {
   "cell_type": "code",
   "execution_count": null,
   "metadata": {
    "scrolled": false
   },
   "outputs": [],
   "source": [
    "pitch = Pitch(pitch_type='wyscout',orientation='horizontal',view='half',layout=(1,1),figsize=(10,10),stripe=True,axis=True,\n",
    "              goal_type='line')\n",
    "fig, ax = pitch.draw()\n",
    "pitch.scatter(x,y, marker='h', color='#d3d3d3',markersize=30,markeredgecolor='black',alpha=0.8,linestyle='None',ax=ax)"
   ]
  },
  {
   "cell_type": "markdown",
   "metadata": {},
   "source": [
    "# Plot multiple"
   ]
  },
  {
   "cell_type": "code",
   "execution_count": null,
   "metadata": {},
   "outputs": [],
   "source": [
    "# generate data\n",
    "x = np.random.gamma(90, 1.1, 50)\n",
    "x[x>120] = 110\n",
    "y = np.random.normal(loc=40, scale=12, size=50)"
   ]
  },
  {
   "cell_type": "code",
   "execution_count": null,
   "metadata": {},
   "outputs": [],
   "source": [
    "pitch_vf = Pitch(pitch_type='statsbomb',orientation='vertical',view='full', goal_type='line',stripe=True)\n",
    "pitch_vh = Pitch(pitch_type='statsbomb',orientation='vertical',view='half', goal_type='line',stripe=True)\n",
    "pitch_hf = Pitch(pitch_type='statsbomb',orientation='horizontal',view='full', goal_type='box',stripe=True)\n",
    "pitch_hh = Pitch(pitch_type='statsbomb',orientation='horizontal',view='half', goal_type='box',stripe=True)\n",
    "fig, ax = plt.subplots(nrows=2, ncols=2,figsize=(15,15))\n",
    "pitch_vf.draw(ax[0,0])\n",
    "pitch_vh.draw(ax[0,1])\n",
    "pitch_hf.draw(ax[1,0])\n",
    "pitch_hh.draw(ax[1,1])\n",
    "pitch_vf.scatter(x,y, marker='h', color='#d3d3d3',markersize=30,markeredgecolor='black',alpha=0.8,linestyle='None',ax=ax[0,0])\n",
    "pitch_vh.scatter(x,y, marker='h', color='#d3d3d3',markersize=30,markeredgecolor='black',alpha=0.8,linestyle='None',ax=ax[0,1])\n",
    "pitch_hf.scatter(x,y, marker='h', color='#d3d3d3',markersize=30,markeredgecolor='black',alpha=0.8,linestyle='None',ax=ax[1,0])\n",
    "pitch_hh.scatter(x,y, marker='h', color='#d3d3d3',markersize=30,markeredgecolor='black',alpha=0.8,linestyle='None',ax=ax[1,1])\n",
    "fig.set_tight_layout(True)"
   ]
  }
 ],
 "metadata": {
  "kernelspec": {
   "display_name": "Python 3",
   "language": "python",
   "name": "python3"
  },
  "language_info": {
   "codemirror_mode": {
    "name": "ipython",
    "version": 3
   },
   "file_extension": ".py",
   "mimetype": "text/x-python",
   "name": "python",
   "nbconvert_exporter": "python",
   "pygments_lexer": "ipython3",
   "version": "3.7.3"
  }
 },
 "nbformat": 4,
 "nbformat_minor": 2
}

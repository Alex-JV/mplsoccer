{
 "cells": [
  {
   "cell_type": "markdown",
   "metadata": {},
   "source": [
    "# TO DO:\n",
    "- angles dont work for opta when changing padding to unequal, e.g. xpad=(30,0),ypad=(0,0). Need to calculate dynamically. Looks like there is some iteration algorithm in matplotlib arc definition that might help work out the intersection points\n",
    "- add docstrings and comments\n",
    "- add error messages/warnings, e.g. length/width ignored apart from tracab and tracab needs this."
   ]
  },
  {
   "cell_type": "code",
   "execution_count": 1,
   "metadata": {},
   "outputs": [],
   "source": [
    "import matplotlib.pyplot as plt\n",
    "import matplotlib.patches as patches\n",
    "import numpy as np\n",
    "\n",
    "class Pitch(object):\n",
    "    \n",
    "    _pitch_dimensions = ['left','right','bottom','top','width','center_width','length','center_length',\n",
    "                         'six_yard_from_side','six_yard_width','six_yard_length',\n",
    "                         'penalty_area_from_side','penalty_area_width','penalty_area_length',\n",
    "                         'left_penalty','right_penalty','circle_size',\n",
    "                         'goal_width','goal_depth','goal_post']\n",
    "    \n",
    "    _opta_dimensions = {'left':100,'right':0,'bottom':0,'top':100,\n",
    "                        'width':100,'center_width':50,'length':100,'center_length':50,\n",
    "                        'six_yard_from_side':36.8,'six_yard_width':26.4,'six_yard_length':5.8,\n",
    "                        'penalty_area_from_side':21.1,'penalty_area_width':57.8,'penalty_area_length':17.0,\n",
    "                        'left_penalty':11.5,'right_penalty':88.5,'circle_size':9.15,\n",
    "                        'goal_depth':2,'goal_width':10.76,'goal_post':44.62}\n",
    "    \n",
    "    _statsbomb_dimensions = {'left':0,'right':80,'bottom':0,'top':120,\n",
    "                             'width':80,'center_width':40,'length':120,'center_length':60,\n",
    "                             'six_yard_from_side':30,'six_yard_width':20,'six_yard_length':6,\n",
    "                             'penalty_area_from_side':18,'penalty_area_width':44,'penalty_area_length':18,\n",
    "                             'left_penalty':12,'right_penalty':108,'circle_size':9.15,\n",
    "                             'goal_depth':2,'goal_width':8,'goal_post':44}   \n",
    "        \n",
    "    def __init__(self, *args, line_color='white', pitch_color='#aabb97', pitch_type='opta',\n",
    "                 orientation='horizontal',view='full',xpad=(2,2),ypad=(2,2),lw=1.5,pitch_length=None,\n",
    "                 pitch_width=None,figsize=None, layout=None,**kwargs):\n",
    "        \n",
    "                \n",
    "        # set figure and axes attributes\n",
    "        self.axes = None\n",
    "        self.fig = None\n",
    "        self.figsize = figsize\n",
    "        self.layout = layout\n",
    "\n",
    "        # set attributes\n",
    "        self.line_color = line_color\n",
    "        self.pitch_color = pitch_color\n",
    "        self.pitch_length = pitch_length\n",
    "        self.pitch_width = pitch_width\n",
    "        self.lw = lw\n",
    "        self.pitch_type = pitch_type      \n",
    "        self.orientation = orientation\n",
    "        self.view = view\n",
    "        self.xpad_left, self.xpad_right = xpad\n",
    "        self.ypad_left, self.ypad_right = ypad   \n",
    "        \n",
    "        # set pitch dimensions\n",
    "        if pitch_type=='opta':\n",
    "            for attr in self._pitch_dimensions:\n",
    "                setattr(self, attr, self._opta_dimensions.get(attr, None))\n",
    "            self.aspect = 68/105\n",
    "            \n",
    "        if pitch_type=='statsbomb':\n",
    "            for attr in self._pitch_dimensions:\n",
    "                setattr(self, attr, self._statsbomb_dimensions.get(attr, None))\n",
    "            self.aspect = 1\n",
    "            \n",
    "        if pitch_type=='tracab':\n",
    "            self.left = pitch_width/2*100\n",
    "            self.right = -(pitch_width/2)*100\n",
    "            self.bottom = -(pitch_length/2)*100\n",
    "            self.top = (pitch_length/2)*100\n",
    "            self.width = pitch_width*100\n",
    "            self.center_width = 0\n",
    "            self.length = pitch_length * 100\n",
    "            self.center_length = 0\n",
    "            self.six_yard_from_side = -916 # -six_yard_width/2\n",
    "            self.six_yard_width = 1832\n",
    "            self.six_yard_length = 550\n",
    "            self.penalty_area_from_side = -2016 # -penalty_area_width/2\n",
    "            self.penalty_area_width = 4032\n",
    "            self.penalty_area_length = 1650\n",
    "            self.left_penalty = self.bottom + 1100\n",
    "            self.right_penalty = self.top - 1100\n",
    "            self.circle_size = 915\n",
    "            self.goal_width = 732\n",
    "            self.goal_depth = 200\n",
    "            self.goal_post = -366 # -goal_width/2\n",
    "            self.xpad_left = self.xpad_left*100\n",
    "            self.ypad_left = self.ypad_left*100\n",
    "            self.xpad_right = self.xpad_right*100\n",
    "            self.ypad_right = self.ypad_right*100\n",
    "            self.aspect = 1      \n",
    "            \n",
    "    def _setup_subplots(self):\n",
    "        \n",
    "        if self.layout == None:\n",
    "            nrows = 1\n",
    "            ncols = 1            \n",
    "            fig, axes = plt.subplots(nrows=nrows, ncols=ncols,figsize=self.figsize)\n",
    "            axes = np.array([axes])\n",
    "        \n",
    "        else:\n",
    "            nrows, ncols = self.layout\n",
    "            if nrows>1 or ncols>1:\n",
    "                fig, axes = plt.subplots(nrows=nrows, ncols=ncols,figsize=self.figsize)\n",
    "                axes = axes.ravel()\n",
    "            else:\n",
    "                fig, axes = plt.subplots(nrows=nrows, ncols=ncols,figsize=self.figsize)\n",
    "                axes = np.array([axes])\n",
    "                \n",
    "        self.fig = fig\n",
    "        self.axes = axes\n",
    "        \n",
    "                 \n",
    "    def _set_axes(self):\n",
    "        # set up vertical pitch\n",
    "        if self.orientation=='vertical':\n",
    "            if self.view=='full':\n",
    "                for ax in self.axes:\n",
    "                    ax.set_aspect(1/self.aspect)\n",
    "                    if self.pitch_type=='statsbomb':\n",
    "                        ax.set_xlim(self.right+self.xpad_left,self.left-self.xpad_right)\n",
    "                    else:\n",
    "                        ax.set_xlim(self.right-self.xpad_left,self.left+self.xpad_right)\n",
    "                    ax.set_ylim(self.bottom-self.ypad_left,self.top+self.ypad_right)\n",
    "            if self.view=='half':\n",
    "                for ax in self.axes:\n",
    "                    ax.set_aspect(1/self.aspect)\n",
    "                    if self.pitch_type=='statsbomb':\n",
    "                        ax.set_xlim(self.right+self.xpad_left,self.left-self.xpad_right)\n",
    "                    else:\n",
    "                        ax.set_xlim(self.right-self.xpad_left,self.left+self.xpad_right)\n",
    "                    ax.set_ylim(self.center_length-self.ypad_left,self.top+self.ypad_right)\n",
    "        # set up horizontal pitch\n",
    "        if self.orientation=='horizontal':\n",
    "            if self.view=='full':\n",
    "                for ax in self.axes:\n",
    "                    ax.set_aspect(self.aspect)\n",
    "                    if self.pitch_type=='statsbomb':\n",
    "                        ax.set_ylim(self.right+self.ypad_left,self.left-self.ypad_right)\n",
    "                    else:\n",
    "                        ax.set_ylim(self.right-self.ypad_left,self.left+self.ypad_right)\n",
    "                    ax.set_xlim(self.bottom-self.xpad_left,self.top+self.xpad_right)\n",
    "            if self.view=='half':\n",
    "                for ax in self.axes:\n",
    "                    ax.set_aspect(self.aspect)\n",
    "                    if self.pitch_type=='statsbomb':\n",
    "                        ax.set_ylim(self.right+self.ypad_left,self.left-self.ypad_right)\n",
    "                    else:\n",
    "                        ax.set_ylim(self.right-self.ypad_left,self.left+self.ypad_right)\n",
    "                    ax.set_xlim(self.center_length-self.xpad_left,self.top+self.xpad_right)       \n",
    "    \n",
    "    def _draw_pitch_lines(self):\n",
    "        for ax in self.axes:\n",
    "            if self.orientation=='horizontal':\n",
    "                if self.pitch_type=='statsbomb':\n",
    "                    pitch_markings = patches.Rectangle((self.bottom,self.left),self.length,self.width,\n",
    "                                                       fill=False,lw=self.lw,color=self.line_color)\n",
    "                else:\n",
    "                    pitch_markings = patches.Rectangle((self.bottom,self.right),self.length,self.width,\n",
    "                                                       fill=False,lw=self.lw,color=self.line_color)\n",
    "                midline = patches.ConnectionPatch([self.center_length,self.left],\n",
    "                                                  [self.center_length,self.right],'data','data',\n",
    "                                                  lw=self.lw,color=self.line_color)\n",
    "            if self.orientation=='vertical':\n",
    "                if self.pitch_type=='statsbomb':\n",
    "                    pitch_markings = patches.Rectangle((self.left,self.bottom),self.width,self.length,\n",
    "                                                   fill=False,lw=self.lw,color=self.line_color)  \n",
    "                else:\n",
    "                    pitch_markings = patches.Rectangle((self.right,self.bottom),self.width,self.length,\n",
    "                                                       fill=False,lw=self.lw,color=self.line_color)\n",
    "                midline = patches.ConnectionPatch([self.left,self.center_length],\n",
    "                                                  [self.right,self.center_length],'data','data',\n",
    "                                                  lw=self.lw,color=self.line_color)\n",
    "            ax.add_patch(pitch_markings)\n",
    "            ax.add_patch(midline)\n",
    "            \n",
    "    def _boxes(self,box_from_side,box_length,box_width,ax):\n",
    "        if self.orientation=='horizontal':\n",
    "            box1 = patches.Rectangle((self.bottom,box_from_side),box_length,box_width,\n",
    "                                     fill=False,lw=self.lw,color=self.line_color)\n",
    "            box2 = patches.Rectangle((self.top-box_length,box_from_side),box_length,box_width,\n",
    "                                     fill=False,lw=self.lw,color=self.line_color)\n",
    "        if self.orientation=='vertical':\n",
    "            box1 = patches.Rectangle((box_from_side,self.bottom),box_width,box_length,\n",
    "                                     fill=False,lw=self.lw,color=self.line_color)\n",
    "            box2 = patches.Rectangle((box_from_side,self.top-box_length),box_width,box_length,\n",
    "                                     fill=False,lw=self.lw,color=self.line_color)\n",
    "        ax.add_patch(box1)\n",
    "        ax.add_patch(box2)\n",
    "        \n",
    "             \n",
    "    def _draw_boxes(self):\n",
    "        for ax in self.axes:\n",
    "            self._boxes(self.six_yard_from_side,self.six_yard_length,self.six_yard_width,ax)\n",
    "            self._boxes(self.penalty_area_from_side,self.penalty_area_length,self.penalty_area_width,ax)\n",
    "            \n",
    "    def _draw_circles_and_arcs(self):\n",
    "        if self.aspect==1:\n",
    "            size_spot = 0.005 * self.length\n",
    "            if self.orientation=='vertical':\n",
    "                xy = (self.center_width,self.center_length)\n",
    "                center = (self.center_width,self.center_length)\n",
    "                penalty1 = (self.center_width,self.left_penalty)\n",
    "                penalty2 = (self.center_width,self.right_penalty)\n",
    "                if self.pitch_type=='statsbomb':\n",
    "                    arc1_theta1 = 40.98\n",
    "                    arc1_theta2 = 139.02\n",
    "                    arc2_theta1 = 220.98\n",
    "                    arc2_theta2 = 319.02\n",
    "                if self.pitch_type=='tracab':\n",
    "                    arc1_theta1 = 36.95\n",
    "                    arc1_theta2 = 143.05\n",
    "                    arc2_theta1 = 216.95\n",
    "                    arc2_theta2 = 323.05\n",
    "                \n",
    "            if self.orientation=='horizontal':\n",
    "                xy = (self.center_length,self.center_width)\n",
    "                center = (self.center_length,self.center_width)\n",
    "                penalty1 = (self.left_penalty,self.center_width)\n",
    "                penalty2 = (self.right_penalty,self.center_width)\n",
    "                if self.pitch_type=='statsbomb':\n",
    "                    arc1_theta1 = 310.98\n",
    "                    arc1_theta2 = 49.02\n",
    "                    arc2_theta1 = 130.98\n",
    "                    arc2_theta2 = 229.02\n",
    "                if self.pitch_type=='tracab':\n",
    "                    arc1_theta1 = 306.95\n",
    "                    arc1_theta2 = 53.05\n",
    "                    arc2_theta1 = 126.95\n",
    "                    arc2_theta2 = 233.05   \n",
    "\n",
    "            for ax in self.axes:\n",
    "                circle = patches.Circle(xy,self.circle_size,lw=self.lw,color=self.line_color, fill=False)\n",
    "                center_spot = patches.Circle(center,size_spot,color=self.line_color)\n",
    "                penalty1_spot = patches.Circle(penalty1,size_spot,color=self.line_color)\n",
    "                penalty2_spot = patches.Circle(penalty2,size_spot,color=self.line_color)\n",
    "                arc1_patch = patches.Arc(penalty1,self.circle_size*2,self.circle_size*2,\n",
    "                                         theta1=arc1_theta1,theta2=arc1_theta2,\n",
    "                                         lw=self.lw,color=self.line_color,fill=False)\n",
    "                arc2_patch = patches.Arc(penalty2,self.circle_size*2,self.circle_size*2,\n",
    "                                         theta1=arc2_theta1,theta2=arc2_theta2,\n",
    "                                         lw=self.lw,color=self.line_color,fill=False)\n",
    "                ax.add_patch(circle)\n",
    "                ax.add_patch(center_spot)\n",
    "                ax.add_patch(penalty1_spot)  \n",
    "                ax.add_patch(penalty2_spot)  \n",
    "                ax.add_patch(arc1_patch)\n",
    "                ax.add_patch(arc2_patch)  \n",
    "                \n",
    "        else:\n",
    "            scaled_circle1 = self.circle_size*100/68\n",
    "            scaled_circle2 = self.circle_size*100/105\n",
    "            scaled_spot1 = self.length/136\n",
    "            scaled_spot2 = self.length/210\n",
    "            xy = (self.center_width,self.center_length)\n",
    "            \n",
    "            if self.orientation=='vertical':\n",
    "                xy1 = (self.center_width+scaled_circle1,self.center_length)\n",
    "                xy2 = (self.center_width,self.center_length+scaled_circle2)\n",
    "                spot1 = (self.center_width,self.left_penalty)\n",
    "                spot2 = (self.center_width,self.right_penalty)\n",
    "                center_spot = (self.center_width,self.center_length)\n",
    "                arc_pen_top1 = (self.center_width-10.745292702287907,self.penalty_area_length)\n",
    "                p1 = (self.center_width+scaled_spot1,self.left_penalty)\n",
    "                p2 = (self.center_width,self.left_penalty+scaled_spot2)\n",
    "                arc1_theta1 = 25.970657529286186 #28\n",
    "                arc1_theta2 = 154.02934247071383 #152\n",
    "\n",
    "                if self.view=='full':                \n",
    "                    arc2_theta1 = 205.97065752928617 #208\n",
    "                    arc2_theta2 = 334.0293424707138 #332\n",
    "                if self.view=='half':\n",
    "                    arc2_theta1 = 226\n",
    "                    arc2_theta2 = 314\n",
    "\n",
    "            if self.orientation=='horizontal':\n",
    "                xy2 = (self.center_width,self.center_length+scaled_circle1)\n",
    "                xy1 = (self.center_width+scaled_circle2,self.center_length)\n",
    "                spot1 = (self.left_penalty,self.center_width)\n",
    "                spot2 = (self.right_penalty,self.center_width)\n",
    "                center_spot = (self.center_length,self.center_width)\n",
    "                p2 = (self.left_penalty,self.center_width+scaled_spot1)\n",
    "                p1 = (self.left_penalty+scaled_spot2,self.center_width)\n",
    "                arc1_theta1 = 298\n",
    "                arc1_theta2 = 62\n",
    "                if self.view=='full':\n",
    "                    arc2_theta1 = 118\n",
    "                    arc2_theta2 = 242\n",
    "                if self.view=='half':\n",
    "                    arc2_theta1 = 137\n",
    "                    arc2_theta2 = 223\n",
    "                   \n",
    "            for ax in self.axes:\n",
    "                ax_coordinate_system = ax.transAxes\n",
    "                ax_xy = ax_coordinate_system.inverted().transform(ax.transData.transform_point(xy))\n",
    "                ax_spot1 = ax_coordinate_system.inverted().transform(ax.transData.transform_point(spot1))\n",
    "                ax_spot2 = ax_coordinate_system.inverted().transform(ax.transData.transform_point(spot2))\n",
    "                ax_center = ax_coordinate_system.inverted().transform(ax.transData.transform_point(center_spot))\n",
    "                ax_xy1 = ax_coordinate_system.inverted().transform(ax.transData.transform_point(xy1))\n",
    "                ax_xy2 = ax_coordinate_system.inverted().transform(ax.transData.transform_point(xy2))\n",
    "                ax_p1 = ax_coordinate_system.inverted().transform(ax.transData.transform_point(p1))\n",
    "                ax_p2 = ax_coordinate_system.inverted().transform(ax.transData.transform_point(p2))\n",
    "                ax_arc_pen_top1 = ax_coordinate_system.inverted().transform(ax.transData.transform_point(arc_pen_top1))\n",
    "                diameter1 = (ax_xy1[0] - ax_xy[0])*2\n",
    "                diameter2 = (ax_xy2[1] - ax_xy[1])*2\n",
    "                diameter_spot1 = (ax_p1[0] - ax_spot1[0])*2\n",
    "                diameter_spot2 = (ax_p2[1] - ax_spot1[1])*2\n",
    "                a = ax_spot1[0] - ax_arc_pen_top1[0]\n",
    "                o = ax_arc_pen_top1[1] - ax_spot1[1]\n",
    "                arc1_theta1 = np.degrees(np.arctan(o/a))\n",
    "                arc1_theta2 = 180 - arc1_theta1\n",
    "                print(arc1_theta1,arc1_theta2)\n",
    "                \n",
    "                \n",
    "               \n",
    "                def theta_stretch(theta, scale):\n",
    "                    # take into account stretching when calculating angles to draw between\n",
    "                    # from matplotlib see: https://matplotlib.org/3.1.0/_modules/matplotlib/patches.html#Arc.draw\n",
    "                    theta = np.deg2rad(theta)\n",
    "                    x = np.cos(theta)\n",
    "                    y = np.sin(theta)\n",
    "                    return np.rad2deg(np.arctan2(scale * y, x))\n",
    "                               \n",
    "                \n",
    "                \n",
    "                theta1 = theta_stretch(arc1_theta1, diameter1 / diameter2)\n",
    "                theta2 = theta_stretch(arc1_theta2, diameter1 / diameter2)\n",
    "                \n",
    "                circle = patches.Ellipse(ax_xy, diameter1, diameter2,transform=ax_coordinate_system,fill=False,\n",
    "                                         lw=self.lw,color=self.line_color)\n",
    "                penalty_spot1 = patches.Ellipse(ax_spot1, diameter_spot1, diameter_spot2,\n",
    "                                                transform=ax_coordinate_system,\n",
    "                                                lw=self.lw,color=self.line_color)\n",
    "                penalty_spot2 = patches.Ellipse(ax_spot2, diameter_spot1, diameter_spot2,\n",
    "                                                transform=ax_coordinate_system,\n",
    "                                                lw=self.lw,color=self.line_color)\n",
    "                kick_off_spot = patches.Ellipse(ax_center, diameter_spot1, diameter_spot2,\n",
    "                                                transform=ax_coordinate_system,\n",
    "                                                lw=self.lw,color=self.line_color)\n",
    "                arc1_patch = patches.Arc(ax_spot1,diameter1, diameter2,transform=ax_coordinate_system,fill=False,\n",
    "                                         theta1=arc1_theta1,theta2=arc1_theta2,\n",
    "                                         lw=self.lw,color=self.line_color)\n",
    "                arc2_patch = patches.Arc(ax_spot2,diameter1, diameter2,transform=ax_coordinate_system,fill=False,\n",
    "                                         theta1=arc2_theta1,theta2=arc2_theta2,\n",
    "                                         lw=self.lw,color=self.line_color)\n",
    "                ax.add_patch(penalty_spot1)\n",
    "                ax.add_patch(penalty_spot2)\n",
    "                ax.add_patch(kick_off_spot)\n",
    "                ax.add_patch(circle)\n",
    "                ax.add_patch(arc1_patch)     \n",
    "                ax.add_patch(arc2_patch)     \n",
    "\n",
    "    def draw(self):\n",
    "        self._setup_subplots()\n",
    "        self._set_axes()\n",
    "        self._draw_pitch_lines()\n",
    "        self._draw_boxes()\n",
    "        self._draw_circles_and_arcs()"
   ]
  },
  {
   "cell_type": "code",
   "execution_count": 2,
   "metadata": {},
   "outputs": [],
   "source": [
    "#                arc1_theta1 = 25.970657529286186 #28\n",
    "#                arc1_theta2 = 154.02934247071383 #152\n",
    "#\n",
    "#                if self.view=='full':                \n",
    "#                    arc2_theta1 = 205.97065752928617 #208\n",
    "#                    arc2_theta2 = 334.0293424707138 #332"
   ]
  },
  {
   "cell_type": "code",
   "execution_count": 3,
   "metadata": {},
   "outputs": [
    {
     "data": {
      "text/plain": [
       "28"
      ]
     },
     "execution_count": 3,
     "metadata": {},
     "output_type": "execute_result"
    }
   ],
   "source": [
    "180-152"
   ]
  },
  {
   "cell_type": "code",
   "execution_count": 4,
   "metadata": {},
   "outputs": [
    {
     "name": "stdout",
     "output_type": "stream",
     "text": [
      "28.00961331842551 151.99038668157448\n"
     ]
    },
    {
     "data": {
      "image/png": "[encoded data removed]",
      "text/plain": [
       "<Figure size 720x720 with 1 Axes>"
      ]
     },
     "metadata": {
      "needs_background": "light"
     },
     "output_type": "display_data"
    }
   ],
   "source": [
    "pitch = Pitch(pitch_type='opta',orientation='vertical',view='full',line_color='blue',layout=(1,1),figsize=(10,10),\n",
    "             xpad=(6,0),ypad=(0,2))\n",
    "pitch.draw()\n",
    "#print(ax_center_pen_top1,ax_arc_pen_top1,ax_spot1)\n",
    "\n"
   ]
  },
  {
   "cell_type": "markdown",
   "metadata": {},
   "source": [
    "# Opta"
   ]
  },
  {
   "cell_type": "markdown",
   "metadata": {},
   "source": [
    "#### Opta vertical full"
   ]
  },
  {
   "cell_type": "code",
   "execution_count": null,
   "metadata": {},
   "outputs": [],
   "source": [
    "# for vertical a>b (might be switched for horizontal)\n",
    "a = 13.455882352941176\n",
    "b = 8.714285714285714\n",
    "m = 1\n",
    "c = 17 - 11.5 #centred at bottom left"
   ]
  },
  {
   "cell_type": "code",
   "execution_count": null,
   "metadata": {},
   "outputs": [],
   "source": [
    "x0 = ((-(a**2)*c)+((a*b)*(a**2+b**2-c**2)**(1/2)))/(a**2+b**2)\n",
    "x1 = ((-(a**2)*c)-((a*b)*(a**2+b**2-c**2)**(1/2)))/(a**2+b**2)\n",
    "print(x0,x1)"
   ]
  },
  {
   "cell_type": "code",
   "execution_count": null,
   "metadata": {},
   "outputs": [],
   "source": [
    "A = 1/(a**2) + 1/(b**2)"
   ]
  },
  {
   "cell_type": "code",
   "execution_count": null,
   "metadata": {},
   "outputs": [],
   "source": [
    "B = 2*(x1)/(a**2) + 2*(x1)/(b**2)"
   ]
  },
  {
   "cell_type": "code",
   "execution_count": null,
   "metadata": {},
   "outputs": [],
   "source": [
    "C = (x1**2)/(a**2) + (x1**2)/(b**2) -1"
   ]
  },
  {
   "cell_type": "code",
   "execution_count": null,
   "metadata": {},
   "outputs": [],
   "source": [
    "(- B + (B**2 - 4*A*C)**(1/2))/(2*A)"
   ]
  },
  {
   "cell_type": "code",
   "execution_count": null,
   "metadata": {},
   "outputs": [],
   "source": [
    "(- B - (B**2 - 4*A*C)**(1/2))/(2*A)"
   ]
  },
  {
   "cell_type": "code",
   "execution_count": null,
   "metadata": {},
   "outputs": [],
   "source": [
    "def theta_stretch(theta, scale):\n",
    "    # take into account stretching when calculating angles to draw between\n",
    "    # from matplotlib see: https://matplotlib.org/3.1.0/_modules/matplotlib/patches.html#Arc.draw\n",
    "    theta = np.deg2rad(theta)\n",
    "    x = np.cos(theta)\n",
    "    y = np.sin(theta)\n",
    "    return np.rad2deg(np.arctan2(scale * y, x))"
   ]
  },
  {
   "cell_type": "code",
   "execution_count": null,
   "metadata": {},
   "outputs": [],
   "source": [
    "import math\n",
    "import numpy as np\n",
    "np.set_printoptions(suppress=True)\n",
    "# vertical 1\n",
    "pen_area = 17 #length pen\n",
    "centre=50; pen_spot = 11.5 #penalty centre\n",
    "radius = 9.15 # radius circle\n",
    "x1 = ((radius)**2 - (pen_area-pen_spot)**2)**(1/2) + centre\n",
    "x2 = -((radius)**2 - (pen_area-pen_spot)**2)**(1/2) + centre\n",
    "angle1 = np.degrees(math.acos((x1 - centre)/radius))\n",
    "angle2 = 180 - np.degrees(math.acos((x1 - centre)/radius))\n",
    "#print(x1,x2)\n",
    "print(angle1,angle2)\n",
    "print(theta_stretch(angle1, 68/105))\n",
    "print(theta_stretch(angle2, 68/105))"
   ]
  },
  {
   "cell_type": "code",
   "execution_count": null,
   "metadata": {},
   "outputs": [],
   "source": [
    "# vertical 2\n",
    "pen_area = 83 #length pen\n",
    "centre=50; pen_spot = 88.5 #penalty centre\n",
    "radius = 9.15 # radius circle\n",
    "x1 = ((radius)**2 - (pen_area-pen_spot)**2)**(1/2) + centre\n",
    "x2 = -((radius)**2 - (pen_area-pen_spot)**2)**(1/2) + centre\n",
    "angle1 = 180 + np.degrees(math.acos((x1 - centre)/radius))\n",
    "angle2 = 360 - np.degrees(math.acos((x1 - centre)/radius))\n",
    "#print(x1,x2)\n",
    "print(angle1,angle2)\n",
    "print(360+theta_stretch(angle1, 68/105))\n",
    "print(360+theta_stretch(angle2, 68/105))"
   ]
  },
  {
   "cell_type": "code",
   "execution_count": null,
   "metadata": {},
   "outputs": [],
   "source": [
    "#    _opta_dimensions = {'left':100,'right':0,'bottom':0,'top':100,\n",
    "#                        'width':100,'center_width':50,'length':100,'center_length':50,\n",
    "#                        'six_yard_from_side':36.8,'six_yard_width':26.4,'six_yard_length':5.8,\n",
    "#                        'penalty_area_from_side':21.1,'penalty_area_width':57.8,'penalty_area_length':17.0,\n",
    "#                        'left_penalty':11.5,'right_penalty':88.5,'circle_size':9.15,\n",
    "#                        'goal_depth':2,'goal_width':10.76,'goal_post':44.62}"
   ]
  },
  {
   "cell_type": "code",
   "execution_count": null,
   "metadata": {},
   "outputs": [],
   "source": [
    "y1[0]"
   ]
  },
  {
   "cell_type": "code",
   "execution_count": null,
   "metadata": {},
   "outputs": [],
   "source": [
    "y2[0]"
   ]
  },
  {
   "cell_type": "code",
   "execution_count": null,
   "metadata": {},
   "outputs": [],
   "source": [
    "pitch.__dict__"
   ]
  },
  {
   "cell_type": "code",
   "execution_count": null,
   "metadata": {},
   "outputs": [],
   "source": [
    "                arc1_theta1 = 25.970657529286186 #28\n",
    "                arc1_theta2 = 154.02934247071383 #152\n",
    "            \n",
    "                    arc2_theta1 = 205.97065752928617 #208\n",
    "                    arc2_theta2 = 334.0293424707138 #332"
   ]
  },
  {
   "cell_type": "code",
   "execution_count": null,
   "metadata": {},
   "outputs": [],
   "source": [
    "180-61.990386681574485"
   ]
  },
  {
   "cell_type": "code",
   "execution_count": null,
   "metadata": {
    "scrolled": false
   },
   "outputs": [],
   "source": [
    "pitch = Pitch(pitch_type='opta',orientation='vertical',view='full',line_color='blue',layout=(1,1),figsize=(10,10),\n",
    "             xpad=(6,0),ypad=(0,2))\n",
    "pitch.draw()\n",
    "radius = 9.15\n",
    "x = np.linspace(0, 100, 100)\n",
    "y = np.ones(100)*50\n",
    "a = radius*100/68\n",
    "b = radius*100/105\n",
    "y1 = y + 10.745292702287907\n",
    "y2 = y - 10.745292702287907 \n",
    "pitch.axes[0].plot(y1,x)\n",
    "pitch.axes[0].plot(y2,x)"
   ]
  },
  {
   "cell_type": "markdown",
   "metadata": {},
   "source": [
    "#### Opta horizontal full"
   ]
  },
  {
   "cell_type": "code",
   "execution_count": null,
   "metadata": {},
   "outputs": [],
   "source": [
    "pitch = Pitch(pitch_type='opta',orientation='horizontal',view='full',line_color='blue',layout=(1,1),figsize=(10,10))\n",
    "pitch.draw()\n",
    "y1 = y + 10.745292702287907\n",
    "y2 = y - 10.745292702287907 \n",
    "pitch.axes[0].plot(x,y1)\n",
    "pitch.axes[0].plot(x,y2)"
   ]
  },
  {
   "cell_type": "markdown",
   "metadata": {},
   "source": [
    "#### Opta vertical half"
   ]
  },
  {
   "cell_type": "code",
   "execution_count": null,
   "metadata": {},
   "outputs": [],
   "source": [
    "pitch = Pitch(pitch_type='opta',orientation='vertical',view='half',line_color='blue',layout=(1,1),figsize=(10,10))\n",
    "pitch.draw()\n",
    "y1 = y + 10.745292702287907\n",
    "y2 = y - 10.745292702287907 \n",
    "pitch.axes[0].plot(y1,x)\n",
    "pitch.axes[0].plot(y2,x)"
   ]
  },
  {
   "cell_type": "markdown",
   "metadata": {},
   "source": [
    "#### Opta Horizontal half"
   ]
  },
  {
   "cell_type": "code",
   "execution_count": null,
   "metadata": {
    "scrolled": false
   },
   "outputs": [],
   "source": [
    "pitch = Pitch(pitch_type='opta',orientation='horizontal',view='half',line_color='blue',layout=(1,1),figsize=(10,10))\n",
    "pitch.draw()\n",
    "pitch.axes[0].plot(x,y1)\n",
    "pitch.axes[0].plot(x,y2)"
   ]
  },
  {
   "cell_type": "markdown",
   "metadata": {},
   "source": [
    "# Statsbomb"
   ]
  },
  {
   "cell_type": "markdown",
   "metadata": {},
   "source": [
    "#### Statsbomb vertical full"
   ]
  },
  {
   "cell_type": "code",
   "execution_count": null,
   "metadata": {},
   "outputs": [],
   "source": [
    "pitch = Pitch(pitch_type='statsbomb',orientation='vertical',view='full',line_color='blue',layout=(1,1),figsize=(10,10))\n",
    "pitch.draw()"
   ]
  },
  {
   "cell_type": "markdown",
   "metadata": {},
   "source": [
    "#### Statsbomb horizontal full"
   ]
  },
  {
   "cell_type": "code",
   "execution_count": null,
   "metadata": {
    "scrolled": false
   },
   "outputs": [],
   "source": [
    "pitch = Pitch(pitch_type='statsbomb',orientation='horizontal',view='full',line_color='blue',layout=(1,1),figsize=(10,10))\n",
    "pitch.draw()"
   ]
  },
  {
   "cell_type": "markdown",
   "metadata": {},
   "source": [
    "#### Statsbomb vertical half"
   ]
  },
  {
   "cell_type": "code",
   "execution_count": null,
   "metadata": {
    "scrolled": false
   },
   "outputs": [],
   "source": [
    "pitch = Pitch(pitch_type='statsbomb',orientation='vertical',view='half',line_color='blue',layout=(1,1),figsize=(10,10))\n",
    "pitch.draw()"
   ]
  },
  {
   "cell_type": "markdown",
   "metadata": {},
   "source": [
    "#### Statsbomb Horizontal half"
   ]
  },
  {
   "cell_type": "code",
   "execution_count": null,
   "metadata": {
    "scrolled": false
   },
   "outputs": [],
   "source": [
    "pitch = Pitch(pitch_type='statsbomb',orientation='horizontal',view='half',line_color='blue',layout=(1,1),figsize=(10,10))\n",
    "pitch.draw()"
   ]
  },
  {
   "cell_type": "markdown",
   "metadata": {},
   "source": [
    "# Tracab"
   ]
  },
  {
   "cell_type": "markdown",
   "metadata": {},
   "source": [
    "#### Tracab vertical full"
   ]
  },
  {
   "cell_type": "code",
   "execution_count": null,
   "metadata": {
    "scrolled": false
   },
   "outputs": [],
   "source": [
    "pitch = Pitch(pitch_type='tracab',orientation='vertical',view='full',line_color='blue',layout=(1,1),figsize=(10,10),\n",
    "                  pitch_width=68,pitch_length=105)\n",
    "pitch.draw()"
   ]
  },
  {
   "cell_type": "markdown",
   "metadata": {},
   "source": [
    "#### Tracab horizontal full"
   ]
  },
  {
   "cell_type": "code",
   "execution_count": null,
   "metadata": {
    "scrolled": false
   },
   "outputs": [],
   "source": [
    "pitch = Pitch(pitch_type='tracab',orientation='horizontal',view='full',line_color='blue',layout=(1,1),figsize=(10,10),\n",
    "                  pitch_width=68,pitch_length=105)\n",
    "pitch.draw()"
   ]
  },
  {
   "cell_type": "markdown",
   "metadata": {},
   "source": [
    "#### Tracab vertical half"
   ]
  },
  {
   "cell_type": "code",
   "execution_count": null,
   "metadata": {
    "scrolled": false
   },
   "outputs": [],
   "source": [
    "pitch = Pitch(pitch_type='tracab',orientation='vertical',view='half',line_color='blue',layout=(1,1),figsize=(10,10),\n",
    "                  pitch_width=68,pitch_length=105)\n",
    "pitch.draw()"
   ]
  },
  {
   "cell_type": "markdown",
   "metadata": {},
   "source": [
    "#### Tracab Horizontal half"
   ]
  },
  {
   "cell_type": "code",
   "execution_count": null,
   "metadata": {
    "scrolled": false
   },
   "outputs": [],
   "source": [
    "pitch = Pitch(pitch_type='tracab',orientation='horizontal',view='half',line_color='blue',layout=(1,1),figsize=(10,10),\n",
    "                  pitch_width=68,pitch_length=105)\n",
    "pitch.draw()"
   ]
  }
 ],
 "metadata": {
  "kernelspec": {
   "display_name": "Python 3",
   "language": "python",
   "name": "python3"
  },
  "language_info": {
   "codemirror_mode": {
    "name": "ipython",
    "version": 3
   },
   "file_extension": ".py",
   "mimetype": "text/x-python",
   "name": "python",
   "nbconvert_exporter": "python",
   "pygments_lexer": "ipython3",
   "version": "3.7.3"
  }
 },
 "nbformat": 4,
 "nbformat_minor": 2
}
